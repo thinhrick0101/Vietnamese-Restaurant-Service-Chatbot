{
 "cells": [
  {
   "cell_type": "code",
   "execution_count": null,
   "metadata": {},
   "outputs": [],
   "source": [
    "!pip install pinecone\n",
    "!pip install openai"
   ]
  },
  {
   "cell_type": "code",
   "execution_count": null,
   "metadata": {},
   "outputs": [],
   "source": [
    "from pinecone import Pinecone, ServerlessSpec\n",
    "import os\n",
    "from openai import OpenAI\n",
    "import pandas as pd\n",
    "from time import time\n",
    "import dotenv\n",
    "dotenv.load_dotenv()"
   ]
  },
  {
   "cell_type": "code",
   "execution_count": null,
   "metadata": {},
   "outputs": [],
   "source": [
    "token= os.getenv(\"OPENAI_API_KEY\") \n",
    "open_ai_base_url = os.getenv(\"RUNPOD_CHATBOT_URL\") \n",
    "model_name= os.getenv(\"MODEL_NAME\") \n",
    "pinecone_api_key = os.getenv(\"PINECONE_API_KEY\")"
   ]
  },
  {
   "cell_type": "code",
   "execution_count": null,
   "metadata": {},
   "outputs": [],
   "source": [
    "pc = Pinecone(api_key=pinecone_api_key)\n",
    "\n",
    "client = OpenAI(\n",
    "  api_key=token, \n",
    ")"
   ]
  },
  {
   "cell_type": "code",
   "execution_count": null,
   "metadata": {},
   "outputs": [],
   "source": [
    "output = client.embeddings.create(input = [\"helloo there\"],model=\"text-embedding-ada-002\")\n",
    "embedings = output.data[0].embedding\n",
    "print(embedings)"
   ]
  },
  {
   "cell_type": "code",
   "execution_count": null,
   "metadata": {},
   "outputs": [],
   "source": [
    "len(embedings)"
   ]
  },
  {
   "cell_type": "code",
   "execution_count": 22,
   "metadata": {},
   "outputs": [],
   "source": [
    "df=pd.read_json('D:/project/Vietnamese-Restaurant-Service-Chatbot/products/vietnamese_food_detail.jsonl',lines=True)"
   ]
  },
  {
   "cell_type": "code",
   "execution_count": 23,
   "metadata": {},
   "outputs": [
    {
     "data": {
      "text/html": [
       "<div>\n",
       "<style scoped>\n",
       "    .dataframe tbody tr th:only-of-type {\n",
       "        vertical-align: middle;\n",
       "    }\n",
       "\n",
       "    .dataframe tbody tr th {\n",
       "        vertical-align: top;\n",
       "    }\n",
       "\n",
       "    .dataframe thead th {\n",
       "        text-align: right;\n",
       "    }\n",
       "</style>\n",
       "<table border=\"1\" class=\"dataframe\">\n",
       "  <thead>\n",
       "    <tr style=\"text-align: right;\">\n",
       "      <th></th>\n",
       "      <th>name</th>\n",
       "      <th>category</th>\n",
       "      <th>description</th>\n",
       "      <th>ingredients</th>\n",
       "      <th>price</th>\n",
       "      <th>rating</th>\n",
       "      <th>image_path</th>\n",
       "    </tr>\n",
       "  </thead>\n",
       "  <tbody>\n",
       "    <tr>\n",
       "      <th>0</th>\n",
       "      <td>Pho Ga</td>\n",
       "      <td>Noodles</td>\n",
       "      <td>A delicious Vietnamese noodle soup with tender...</td>\n",
       "      <td>[Chicken, Rice Noodles, Broth, Herbs]</td>\n",
       "      <td>6.5</td>\n",
       "      <td>4.8</td>\n",
       "      <td>pho_ga.jpg</td>\n",
       "    </tr>\n",
       "    <tr>\n",
       "      <th>1</th>\n",
       "      <td>Goi Cuon</td>\n",
       "      <td>Seafood</td>\n",
       "      <td>Fresh Vietnamese spring rolls filled with shri...</td>\n",
       "      <td>[Shrimp, Rice Paper, Vermicelli, Herbs]</td>\n",
       "      <td>5.0</td>\n",
       "      <td>4.7</td>\n",
       "      <td>goi_cuon.jpg</td>\n",
       "    </tr>\n",
       "  </tbody>\n",
       "</table>\n",
       "</div>"
      ],
      "text/plain": [
       "       name category                                        description  \\\n",
       "0    Pho Ga  Noodles  A delicious Vietnamese noodle soup with tender...   \n",
       "1  Goi Cuon  Seafood  Fresh Vietnamese spring rolls filled with shri...   \n",
       "\n",
       "                               ingredients  price  rating    image_path  \n",
       "0    [Chicken, Rice Noodles, Broth, Herbs]    6.5     4.8    pho_ga.jpg  \n",
       "1  [Shrimp, Rice Paper, Vermicelli, Herbs]    5.0     4.7  goi_cuon.jpg  "
      ]
     },
     "execution_count": 23,
     "metadata": {},
     "output_type": "execute_result"
    }
   ],
   "source": [
    "df.head(2)"
   ]
  },
  {
   "cell_type": "code",
   "execution_count": 24,
   "metadata": {},
   "outputs": [],
   "source": [
    "df['text'] =  df['name']+\" : \"+df['description'] + \\\n",
    "                \" -- Ingredients: \" + df['ingredients'].astype(str) + \\\n",
    "                \" -- Price: \" + df['price'].astype(str) + \\\n",
    "                \" -- rating: \" + df['rating'].astype(str) "
   ]
  },
  {
   "cell_type": "code",
   "execution_count": 25,
   "metadata": {},
   "outputs": [
    {
     "data": {
      "text/plain": [
       "0    Pho Ga : A delicious Vietnamese noodle soup wi...\n",
       "1    Goi Cuon : Fresh Vietnamese spring rolls fille...\n",
       "2    Hu Tieu Nam Vang : A flavorful Vietnamese nood...\n",
       "3    Tra Da : A refreshing Vietnamese iced tea made...\n",
       "4    Nuoc Mia : A sweet and refreshing Vietnamese s...\n",
       "Name: text, dtype: object"
      ]
     },
     "execution_count": 25,
     "metadata": {},
     "output_type": "execute_result"
    }
   ],
   "source": [
    "df['text'].head()"
   ]
  },
  {
   "cell_type": "code",
   "execution_count": 29,
   "metadata": {},
   "outputs": [],
   "source": [
    "texts = df['text'].tolist()\n",
    "with open('D:/project/Vietnamese-Restaurant-Service-Chatbot/products/info.txt') as f:\n",
    "    Mrs_Phuong_Cozzy = f.read()\n",
    "    \n",
    "Mrs_Phuong_Cozzy = \"Mrs.Phuong Cozzy\" + Mrs_Phuong_Cozzy\n",
    "texts.append(Mrs_Phuong_Cozzy)"
   ]
  },
  {
   "cell_type": "code",
   "execution_count": 31,
   "metadata": {},
   "outputs": [],
   "source": [
    "with open('D:/project/Vietnamese-Restaurant-Service-Chatbot/products/menu.txt') as f:\n",
    "    menue_items_text = f.read()\n",
    "    \n",
    "menue_items_text = \"Menu Items: \" + menue_items_text\n",
    "texts.append(menue_items_text)"
   ]
  },
  {
   "cell_type": "code",
   "execution_count": 33,
   "metadata": {},
   "outputs": [],
   "source": [
    "output = client.embeddings.create(input = texts,model=\"text-embedding-ada-002\")\n",
    "embeddings = output.data"
   ]
  },
  {
   "cell_type": "code",
   "execution_count": 34,
   "metadata": {},
   "outputs": [
    {
     "ename": "NameError",
     "evalue": "name 'index_name' is not defined",
     "output_type": "error",
     "traceback": [
      "\u001b[1;31m---------------------------------------------------------------------------\u001b[0m",
      "\u001b[1;31mNameError\u001b[0m                                 Traceback (most recent call last)",
      "Cell \u001b[1;32mIn[34], line 1\u001b[0m\n\u001b[1;32m----> 1\u001b[0m index_name\n",
      "\u001b[1;31mNameError\u001b[0m: name 'index_name' is not defined"
     ]
    }
   ],
   "source": [
    "index_name"
   ]
  },
  {
   "cell_type": "code",
   "execution_count": 42,
   "metadata": {},
   "outputs": [
    {
     "data": {
      "text/plain": [
       "{\n",
       "    \"name\": \"vietnamesecozzyrestaurant\",\n",
       "    \"metric\": \"cosine\",\n",
       "    \"host\": \"vietnamesecozzyrestaurant-j6lotk8.svc.aped-4627-b74a.pinecone.io\",\n",
       "    \"spec\": {\n",
       "        \"serverless\": {\n",
       "            \"cloud\": \"aws\",\n",
       "            \"region\": \"us-east-1\"\n",
       "        }\n",
       "    },\n",
       "    \"status\": {\n",
       "        \"ready\": true,\n",
       "        \"state\": \"Ready\"\n",
       "    },\n",
       "    \"vector_type\": \"dense\",\n",
       "    \"dimension\": 1536,\n",
       "    \"deletion_protection\": \"disabled\",\n",
       "    \"tags\": null\n",
       "}"
      ]
     },
     "execution_count": 42,
     "metadata": {},
     "output_type": "execute_result"
    }
   ],
   "source": [
    "index_name = \"vietnamesecozzyrestaurant\"\n",
    "\n",
    "pc.create_index(\n",
    "    name=index_name,\n",
    "    dimension=1536, # Replace with your model dimensions\n",
    "    metric=\"cosine\", # Replace with your model metric\n",
    "    spec=ServerlessSpec(\n",
    "        cloud=\"aws\",\n",
    "        region=\"us-east-1\"\n",
    "    ) \n",
    ")"
   ]
  },
  {
   "cell_type": "code",
   "execution_count": 43,
   "metadata": {},
   "outputs": [
    {
     "name": "stdout",
     "output_type": "stream",
     "text": [
      "Upsert response: {'upserted_count': 33}\n"
     ]
    }
   ],
   "source": [
    "import hashlib\n",
    "import time\n",
    "import pinecone\n",
    "\n",
    "# Initialize Pinecone client\n",
    "pc = pinecone.Pinecone(api_key=pinecone_api_key)  # Ensure env var or use directly\n",
    "\n",
    "# Wait for index to be ready\n",
    "while not pc.describe_index(index_name).status['ready']:\n",
    "    time.sleep(1)\n",
    "\n",
    "index = pc.Index(index_name)\n",
    "\n",
    "# Prepare vectors\n",
    "vectors = []\n",
    "for text, embedding in zip(texts, embeddings):\n",
    "    # Create a safe, unique ID using MD5 hash\n",
    "    entry_id = hashlib.md5(text.encode('utf-8')).hexdigest()\n",
    "    \n",
    "    # Optional: validate shape of embedding if needed\n",
    "    if hasattr(embedding, \"embedding\"):\n",
    "        values = embedding.embedding\n",
    "    else:\n",
    "        values = embedding  # In case you're already passing raw vector\n",
    "\n",
    "    vectors.append({\n",
    "        \"id\": entry_id,\n",
    "        \"values\": values,\n",
    "        \"metadata\": {'text': text}\n",
    "    })\n",
    "\n",
    "# Upsert to Pinecone\n",
    "response = index.upsert(\n",
    "    vectors=vectors,\n",
    "    namespace=\"ns1\"\n",
    ")\n",
    "\n",
    "print(\"Upsert response:\", response)\n"
   ]
  },
  {
   "cell_type": "code",
   "execution_count": 44,
   "metadata": {},
   "outputs": [],
   "source": [
    "output = client.embeddings.create(input = [\"Is Pho Ga lactose-free?\"],model=\"text-embedding-ada-002\")\n",
    "embeding = output.data[0].embedding"
   ]
  },
  {
   "cell_type": "code",
   "execution_count": 45,
   "metadata": {},
   "outputs": [
    {
     "name": "stdout",
     "output_type": "stream",
     "text": [
      "{'matches': [{'id': '974fa0f5d9249d1fbede757866a880f1',\n",
      "              'metadata': {'text': 'Pho Ga : A delicious Vietnamese noodle '\n",
      "                                   'soup with tender chicken, fresh herbs, and '\n",
      "                                   'rice noodles in a savory broth. -- '\n",
      "                                   \"Ingredients: ['Chicken', 'Rice Noodles', \"\n",
      "                                   \"'Broth', 'Herbs'] -- Price: 6.5 -- rating: \"\n",
      "                                   '4.8'},\n",
      "              'score': 0.843781,\n",
      "              'values': []},\n",
      "             {'id': '3700e16a08552de884ec144bff4a496e',\n",
      "              'metadata': {'text': 'Menu Items: Menu\\n'\n",
      "                                   '\\n'\n",
      "                                   'Pho Ga - $6.50\\n'\n",
      "                                   'Goi Cuon - $5.00\\n'\n",
      "                                   'Hu Tieu Nam Vang - $7.00\\n'\n",
      "                                   'Tra Da - $1.50\\n'\n",
      "                                   'Nuoc Mia - $2.00\\n'\n",
      "                                   'Banh Xeo - $6.00\\n'\n",
      "                                   'Ca Phe Sua Da - $3.50\\n'\n",
      "                                   'Banh Mi Thit - $4.50\\n'\n",
      "                                   'Banh Trang Nuong - $2.50\\n'\n",
      "                                   'Xoi Ga - $5.00\\n'\n",
      "                                   'Bun Rieu - $6.00\\n'\n",
      "                                   'Goi Ga - $4.50\\n'\n",
      "                                   'Banh Pia - $2.50\\n'\n",
      "                                   'Bun Cha - $7.50\\n'\n",
      "                                   'Kem Xoi - $4.00\\n'\n",
      "                                   'Bun Dau Mam Tom - $5.50\\n'\n",
      "                                   'Bun Oc - $6.50\\n'\n",
      "                                   'Banh Beo - $3.50\\n'\n",
      "                                   'Nuoc Chanh - $2.00\\n'\n",
      "                                   'Nem Nuong - $4.00\\n'\n",
      "                                   'Banh Mi Cha Ca - $4.50\\n'\n",
      "                                   'Banh Khot - $3.50\\n'\n",
      "                                   'Sinh To Bo - $3.00\\n'\n",
      "                                   'Bun Thit Nuong - $7.00\\n'\n",
      "                                   'Com Ga - $6.50\\n'\n",
      "                                   'Lau Nam - $9.00\\n'\n",
      "                                   'Che Troi Nuoc - $3.00\\n'\n",
      "                                   'Sinh To Xoai - $3.50\\n'\n",
      "                                   'Com Tam - $5.50\\n'\n",
      "                                   'Che Ba Mau - $3.00\\n'\n",
      "                                   'Bo Nuong La Lot - $8.00\\n'},\n",
      "              'score': 0.814612448,\n",
      "              'values': []},\n",
      "             {'id': 'b98ceb0e92fe02071224518b5ad3a50c',\n",
      "              'metadata': {'text': 'Goi Ga : A refreshing Vietnamese chicken '\n",
      "                                   'salad made with shredded chicken, fresh '\n",
      "                                   'vegetables, and herbs, dressed with a '\n",
      "                                   'light, tangy lime dressing. -- '\n",
      "                                   \"Ingredients: ['Chicken', 'Vegetables', \"\n",
      "                                   \"'Lime Dressing', 'Herbs'] -- Price: 4.5 -- \"\n",
      "                                   'rating: 4.6'},\n",
      "              'score': 0.806170166,\n",
      "              'values': []}],\n",
      " 'namespace': 'ns1',\n",
      " 'usage': {'read_units': 1}}\n"
     ]
    }
   ],
   "source": [
    "results = index.query(\n",
    "    namespace=\"ns1\",\n",
    "    vector=embeding,\n",
    "    top_k=3,\n",
    "    include_values=False,\n",
    "    include_metadata=True\n",
    ")\n",
    "\n",
    "print(results)"
   ]
  },
  {
   "cell_type": "code",
   "execution_count": null,
   "metadata": {},
   "outputs": [],
   "source": []
  }
 ],
 "metadata": {
  "kernelspec": {
   "display_name": "base",
   "language": "python",
   "name": "python3"
  },
  "language_info": {
   "codemirror_mode": {
    "name": "ipython",
    "version": 3
   },
   "file_extension": ".py",
   "mimetype": "text/x-python",
   "name": "python",
   "nbconvert_exporter": "python",
   "pygments_lexer": "ipython3",
   "version": "3.12.7"
  }
 },
 "nbformat": 4,
 "nbformat_minor": 2
}
