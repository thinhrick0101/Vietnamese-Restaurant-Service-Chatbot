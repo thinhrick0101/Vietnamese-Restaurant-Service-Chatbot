{
 "cells": [
  {
   "cell_type": "code",
   "execution_count": 1,
   "metadata": {},
   "outputs": [
    {
     "name": "stdout",
     "output_type": "stream",
     "text": [
      "Requirement already satisfied: firebase-admin in c:\\users\\thinh\\appdata\\local\\programs\\python\\python313\\lib\\site-packages (6.8.0)\n",
      "Requirement already satisfied: cachecontrol>=0.12.14 in c:\\users\\thinh\\appdata\\local\\programs\\python\\python313\\lib\\site-packages (from firebase-admin) (0.14.3)\n",
      "Requirement already satisfied: google-api-python-client>=1.7.8 in c:\\users\\thinh\\appdata\\local\\programs\\python\\python313\\lib\\site-packages (from firebase-admin) (2.169.0)\n",
      "Requirement already satisfied: google-cloud-storage>=1.37.1 in c:\\users\\thinh\\appdata\\local\\programs\\python\\python313\\lib\\site-packages (from firebase-admin) (3.1.0)\n",
      "Requirement already satisfied: pyjwt>=2.5.0 in c:\\users\\thinh\\appdata\\local\\programs\\python\\python313\\lib\\site-packages (from pyjwt[crypto]>=2.5.0->firebase-admin) (2.10.1)\n",
      "Requirement already satisfied: google-api-core<3.0.0dev,>=1.22.1 in c:\\users\\thinh\\appdata\\local\\programs\\python\\python313\\lib\\site-packages (from google-api-core[grpc]<3.0.0dev,>=1.22.1; platform_python_implementation != \"PyPy\"->firebase-admin) (2.25.0rc0)\n",
      "Requirement already satisfied: google-cloud-firestore>=2.19.0 in c:\\users\\thinh\\appdata\\local\\programs\\python\\python313\\lib\\site-packages (from firebase-admin) (2.20.2)\n",
      "Requirement already satisfied: googleapis-common-protos<2.0.0,>=1.56.2 in c:\\users\\thinh\\appdata\\local\\programs\\python\\python313\\lib\\site-packages (from google-api-core<3.0.0dev,>=1.22.1->google-api-core[grpc]<3.0.0dev,>=1.22.1; platform_python_implementation != \"PyPy\"->firebase-admin) (1.70.0)\n",
      "Requirement already satisfied: protobuf!=3.20.0,!=3.20.1,!=4.21.0,!=4.21.1,!=4.21.2,!=4.21.3,!=4.21.4,!=4.21.5,<7.0.0,>=3.19.5 in c:\\users\\thinh\\appdata\\local\\programs\\python\\python313\\lib\\site-packages (from google-api-core<3.0.0dev,>=1.22.1->google-api-core[grpc]<3.0.0dev,>=1.22.1; platform_python_implementation != \"PyPy\"->firebase-admin) (5.29.4)\n",
      "Requirement already satisfied: proto-plus<2.0.0,>=1.22.3 in c:\\users\\thinh\\appdata\\local\\programs\\python\\python313\\lib\\site-packages (from google-api-core<3.0.0dev,>=1.22.1->google-api-core[grpc]<3.0.0dev,>=1.22.1; platform_python_implementation != \"PyPy\"->firebase-admin) (1.26.1)\n",
      "Requirement already satisfied: google-auth<3.0.0,>=2.14.1 in c:\\users\\thinh\\appdata\\local\\programs\\python\\python313\\lib\\site-packages (from google-api-core<3.0.0dev,>=1.22.1->google-api-core[grpc]<3.0.0dev,>=1.22.1; platform_python_implementation != \"PyPy\"->firebase-admin) (2.40.1)\n",
      "Requirement already satisfied: requests<3.0.0,>=2.18.0 in c:\\users\\thinh\\appdata\\local\\programs\\python\\python313\\lib\\site-packages (from google-api-core<3.0.0dev,>=1.22.1->google-api-core[grpc]<3.0.0dev,>=1.22.1; platform_python_implementation != \"PyPy\"->firebase-admin) (2.32.3)\n",
      "Requirement already satisfied: grpcio<2.0.0,>=1.33.2 in c:\\users\\thinh\\appdata\\local\\programs\\python\\python313\\lib\\site-packages (from google-api-core[grpc]<3.0.0dev,>=1.22.1; platform_python_implementation != \"PyPy\"->firebase-admin) (1.71.0)\n",
      "Requirement already satisfied: grpcio-status<2.0.0,>=1.33.2 in c:\\users\\thinh\\appdata\\local\\programs\\python\\python313\\lib\\site-packages (from google-api-core[grpc]<3.0.0dev,>=1.22.1; platform_python_implementation != \"PyPy\"->firebase-admin) (1.71.0)\n",
      "Requirement already satisfied: cachetools<6.0,>=2.0.0 in c:\\users\\thinh\\appdata\\local\\programs\\python\\python313\\lib\\site-packages (from google-auth<3.0.0,>=2.14.1->google-api-core<3.0.0dev,>=1.22.1->google-api-core[grpc]<3.0.0dev,>=1.22.1; platform_python_implementation != \"PyPy\"->firebase-admin) (5.5.2)\n",
      "Requirement already satisfied: pyasn1-modules>=0.2.1 in c:\\users\\thinh\\appdata\\local\\programs\\python\\python313\\lib\\site-packages (from google-auth<3.0.0,>=2.14.1->google-api-core<3.0.0dev,>=1.22.1->google-api-core[grpc]<3.0.0dev,>=1.22.1; platform_python_implementation != \"PyPy\"->firebase-admin) (0.4.2)\n",
      "Requirement already satisfied: rsa<5,>=3.1.4 in c:\\users\\thinh\\appdata\\local\\programs\\python\\python313\\lib\\site-packages (from google-auth<3.0.0,>=2.14.1->google-api-core<3.0.0dev,>=1.22.1->google-api-core[grpc]<3.0.0dev,>=1.22.1; platform_python_implementation != \"PyPy\"->firebase-admin) (4.9.1)\n",
      "Requirement already satisfied: charset-normalizer<4,>=2 in c:\\users\\thinh\\appdata\\local\\programs\\python\\python313\\lib\\site-packages (from requests<3.0.0,>=2.18.0->google-api-core<3.0.0dev,>=1.22.1->google-api-core[grpc]<3.0.0dev,>=1.22.1; platform_python_implementation != \"PyPy\"->firebase-admin) (3.4.1)\n",
      "Requirement already satisfied: idna<4,>=2.5 in c:\\users\\thinh\\appdata\\local\\programs\\python\\python313\\lib\\site-packages (from requests<3.0.0,>=2.18.0->google-api-core<3.0.0dev,>=1.22.1->google-api-core[grpc]<3.0.0dev,>=1.22.1; platform_python_implementation != \"PyPy\"->firebase-admin) (3.10)\n",
      "Requirement already satisfied: urllib3<3,>=1.21.1 in c:\\users\\thinh\\appdata\\local\\programs\\python\\python313\\lib\\site-packages (from requests<3.0.0,>=2.18.0->google-api-core<3.0.0dev,>=1.22.1->google-api-core[grpc]<3.0.0dev,>=1.22.1; platform_python_implementation != \"PyPy\"->firebase-admin) (2.4.0)\n",
      "Requirement already satisfied: certifi>=2017.4.17 in c:\\users\\thinh\\appdata\\local\\programs\\python\\python313\\lib\\site-packages (from requests<3.0.0,>=2.18.0->google-api-core<3.0.0dev,>=1.22.1->google-api-core[grpc]<3.0.0dev,>=1.22.1; platform_python_implementation != \"PyPy\"->firebase-admin) (2025.4.26)\n",
      "Requirement already satisfied: pyasn1>=0.1.3 in c:\\users\\thinh\\appdata\\local\\programs\\python\\python313\\lib\\site-packages (from rsa<5,>=3.1.4->google-auth<3.0.0,>=2.14.1->google-api-core<3.0.0dev,>=1.22.1->google-api-core[grpc]<3.0.0dev,>=1.22.1; platform_python_implementation != \"PyPy\"->firebase-admin) (0.6.1)\n",
      "Requirement already satisfied: msgpack<2.0.0,>=0.5.2 in c:\\users\\thinh\\appdata\\local\\programs\\python\\python313\\lib\\site-packages (from cachecontrol>=0.12.14->firebase-admin) (1.1.0)\n",
      "Requirement already satisfied: httplib2<1.0.0,>=0.19.0 in c:\\users\\thinh\\appdata\\local\\programs\\python\\python313\\lib\\site-packages (from google-api-python-client>=1.7.8->firebase-admin) (0.22.0)\n",
      "Requirement already satisfied: google-auth-httplib2<1.0.0,>=0.2.0 in c:\\users\\thinh\\appdata\\local\\programs\\python\\python313\\lib\\site-packages (from google-api-python-client>=1.7.8->firebase-admin) (0.2.0)\n",
      "Requirement already satisfied: uritemplate<5,>=3.0.1 in c:\\users\\thinh\\appdata\\local\\programs\\python\\python313\\lib\\site-packages (from google-api-python-client>=1.7.8->firebase-admin) (4.1.1)\n",
      "Requirement already satisfied: pyparsing!=3.0.0,!=3.0.1,!=3.0.2,!=3.0.3,<4,>=2.4.2 in c:\\users\\thinh\\appdata\\local\\programs\\python\\python313\\lib\\site-packages (from httplib2<1.0.0,>=0.19.0->google-api-python-client>=1.7.8->firebase-admin) (3.2.3)\n",
      "Requirement already satisfied: google-cloud-core<3.0.0,>=1.4.1 in c:\\users\\thinh\\appdata\\local\\programs\\python\\python313\\lib\\site-packages (from google-cloud-firestore>=2.19.0->firebase-admin) (2.4.3)\n",
      "Requirement already satisfied: google-resumable-media>=2.7.2 in c:\\users\\thinh\\appdata\\local\\programs\\python\\python313\\lib\\site-packages (from google-cloud-storage>=1.37.1->firebase-admin) (2.7.2)\n",
      "Requirement already satisfied: google-crc32c<2.0dev,>=1.0 in c:\\users\\thinh\\appdata\\local\\programs\\python\\python313\\lib\\site-packages (from google-cloud-storage>=1.37.1->firebase-admin) (1.7.1)\n",
      "Requirement already satisfied: cryptography>=3.4.0 in c:\\users\\thinh\\appdata\\local\\programs\\python\\python313\\lib\\site-packages (from pyjwt[crypto]>=2.5.0->firebase-admin) (44.0.3)\n",
      "Requirement already satisfied: cffi>=1.12 in c:\\users\\thinh\\appdata\\local\\programs\\python\\python313\\lib\\site-packages (from cryptography>=3.4.0->pyjwt[crypto]>=2.5.0->firebase-admin) (1.17.1)\n",
      "Requirement already satisfied: pycparser in c:\\users\\thinh\\appdata\\local\\programs\\python\\python313\\lib\\site-packages (from cffi>=1.12->cryptography>=3.4.0->pyjwt[crypto]>=2.5.0->firebase-admin) (2.22)\n",
      "Requirement already satisfied: google-cloud-storage in c:\\users\\thinh\\appdata\\local\\programs\\python\\python313\\lib\\site-packages (3.1.0)\n",
      "Requirement already satisfied: google-auth<3.0dev,>=2.26.1 in c:\\users\\thinh\\appdata\\local\\programs\\python\\python313\\lib\\site-packages (from google-cloud-storage) (2.40.1)\n",
      "Requirement already satisfied: google-api-core<3.0.0dev,>=2.15.0 in c:\\users\\thinh\\appdata\\local\\programs\\python\\python313\\lib\\site-packages (from google-cloud-storage) (2.25.0rc0)\n",
      "Requirement already satisfied: google-cloud-core<3.0dev,>=2.4.2 in c:\\users\\thinh\\appdata\\local\\programs\\python\\python313\\lib\\site-packages (from google-cloud-storage) (2.4.3)\n",
      "Requirement already satisfied: google-resumable-media>=2.7.2 in c:\\users\\thinh\\appdata\\local\\programs\\python\\python313\\lib\\site-packages (from google-cloud-storage) (2.7.2)\n",
      "Requirement already satisfied: requests<3.0.0dev,>=2.18.0 in c:\\users\\thinh\\appdata\\local\\programs\\python\\python313\\lib\\site-packages (from google-cloud-storage) (2.32.3)\n",
      "Requirement already satisfied: google-crc32c<2.0dev,>=1.0 in c:\\users\\thinh\\appdata\\local\\programs\\python\\python313\\lib\\site-packages (from google-cloud-storage) (1.7.1)\n",
      "Requirement already satisfied: googleapis-common-protos<2.0.0,>=1.56.2 in c:\\users\\thinh\\appdata\\local\\programs\\python\\python313\\lib\\site-packages (from google-api-core<3.0.0dev,>=2.15.0->google-cloud-storage) (1.70.0)\n",
      "Requirement already satisfied: protobuf!=3.20.0,!=3.20.1,!=4.21.0,!=4.21.1,!=4.21.2,!=4.21.3,!=4.21.4,!=4.21.5,<7.0.0,>=3.19.5 in c:\\users\\thinh\\appdata\\local\\programs\\python\\python313\\lib\\site-packages (from google-api-core<3.0.0dev,>=2.15.0->google-cloud-storage) (5.29.4)\n",
      "Requirement already satisfied: proto-plus<2.0.0,>=1.22.3 in c:\\users\\thinh\\appdata\\local\\programs\\python\\python313\\lib\\site-packages (from google-api-core<3.0.0dev,>=2.15.0->google-cloud-storage) (1.26.1)\n",
      "Requirement already satisfied: cachetools<6.0,>=2.0.0 in c:\\users\\thinh\\appdata\\local\\programs\\python\\python313\\lib\\site-packages (from google-auth<3.0dev,>=2.26.1->google-cloud-storage) (5.5.2)\n",
      "Requirement already satisfied: pyasn1-modules>=0.2.1 in c:\\users\\thinh\\appdata\\local\\programs\\python\\python313\\lib\\site-packages (from google-auth<3.0dev,>=2.26.1->google-cloud-storage) (0.4.2)\n",
      "Requirement already satisfied: rsa<5,>=3.1.4 in c:\\users\\thinh\\appdata\\local\\programs\\python\\python313\\lib\\site-packages (from google-auth<3.0dev,>=2.26.1->google-cloud-storage) (4.9.1)\n",
      "Requirement already satisfied: charset-normalizer<4,>=2 in c:\\users\\thinh\\appdata\\local\\programs\\python\\python313\\lib\\site-packages (from requests<3.0.0dev,>=2.18.0->google-cloud-storage) (3.4.1)\n",
      "Requirement already satisfied: idna<4,>=2.5 in c:\\users\\thinh\\appdata\\local\\programs\\python\\python313\\lib\\site-packages (from requests<3.0.0dev,>=2.18.0->google-cloud-storage) (3.10)\n",
      "Requirement already satisfied: urllib3<3,>=1.21.1 in c:\\users\\thinh\\appdata\\local\\programs\\python\\python313\\lib\\site-packages (from requests<3.0.0dev,>=2.18.0->google-cloud-storage) (2.4.0)\n",
      "Requirement already satisfied: certifi>=2017.4.17 in c:\\users\\thinh\\appdata\\local\\programs\\python\\python313\\lib\\site-packages (from requests<3.0.0dev,>=2.18.0->google-cloud-storage) (2025.4.26)\n",
      "Requirement already satisfied: pyasn1>=0.1.3 in c:\\users\\thinh\\appdata\\local\\programs\\python\\python313\\lib\\site-packages (from rsa<5,>=3.1.4->google-auth<3.0dev,>=2.26.1->google-cloud-storage) (0.6.1)\n",
      "Requirement already satisfied: python-dotenv in c:\\users\\thinh\\appdata\\local\\programs\\python\\python313\\lib\\site-packages (1.1.0)\n",
      "Requirement already satisfied: pandas in c:\\users\\thinh\\appdata\\local\\programs\\python\\python313\\lib\\site-packages (2.2.3)\n",
      "Requirement already satisfied: numpy>=1.26.0 in c:\\users\\thinh\\appdata\\local\\programs\\python\\python313\\lib\\site-packages (from pandas) (2.2.5)\n",
      "Requirement already satisfied: python-dateutil>=2.8.2 in c:\\users\\thinh\\appdata\\roaming\\python\\python313\\site-packages (from pandas) (2.9.0.post0)\n",
      "Requirement already satisfied: pytz>=2020.1 in c:\\users\\thinh\\appdata\\local\\programs\\python\\python313\\lib\\site-packages (from pandas) (2025.2)\n",
      "Requirement already satisfied: tzdata>=2022.7 in c:\\users\\thinh\\appdata\\local\\programs\\python\\python313\\lib\\site-packages (from pandas) (2025.2)\n",
      "Requirement already satisfied: six>=1.5 in c:\\users\\thinh\\appdata\\roaming\\python\\python313\\site-packages (from python-dateutil>=2.8.2->pandas) (1.17.0)\n"
     ]
    }
   ],
   "source": [
    "\n",
    "!pip install firebase-admin\n",
    "!pip install google-cloud-storage\n",
    "!pip install python-dotenv\n",
    "!pip install pandas"
   ]
  },
  {
   "cell_type": "code",
   "execution_count": 2,
   "metadata": {},
   "outputs": [
    {
     "data": {
      "text/plain": [
       "True"
      ]
     },
     "execution_count": 2,
     "metadata": {},
     "output_type": "execute_result"
    }
   ],
   "source": [
    "import firebase_admin\n",
    "from firebase_admin import credentials, storage\n",
    "from firebase_admin import db\n",
    "import pandas as pd\n",
    "import os\n",
    "import dotenv\n",
    "dotenv.load_dotenv()"
   ]
  },
  {
   "cell_type": "code",
   "execution_count": 3,
   "metadata": {},
   "outputs": [],
   "source": [
    "service_account_info ={\n",
    "    \"type\": os.getenv('FIREBASE_TYPE'),\n",
    "    \"project_id\": os.getenv('FIREBASE_PROJECT_ID'),\n",
    "    \"private_key_id\": os.getenv('FIREBASE_PRIVATE_KEY_ID'),\n",
    "    \"private_key\": os.getenv('FIREBASE_PRIVATE_KEY'),\n",
    "    \"client_email\": os.getenv('FIREBASE_CLIENT_EMAIL'),\n",
    "    \"client_id\": os.getenv('FIREBASE_CLIENT_ID'),\n",
    "    \"auth_uri\": os.getenv('FIREBASE_AUTH_URI'),\n",
    "    \"token_uri\": os.getenv('FIREBASE_TOKEN_URI'),\n",
    "    \"auth_provider_x509_cert_url\": os.getenv('FIREBASE_AUTH_PROVIDER_X509_CERT_URL'),\n",
    "    \"client_x509_cert_url\": os.getenv('FIREBASE_CLIENT_X509_CERT_URL'),\n",
    "    \"universe_domain\": os.getenv('FIREBASE_UNIVERSE_DOMAIN')\n",
    "  }\n",
    "  "
   ]
  },
  {
   "cell_type": "code",
   "execution_count": 4,
   "metadata": {},
   "outputs": [
    {
     "data": {
      "text/plain": [
       "<firebase_admin.App at 0x1f79da99010>"
      ]
     },
     "execution_count": 4,
     "metadata": {},
     "output_type": "execute_result"
    }
   ],
   "source": [
    "import firebase_admin\n",
    "from firebase_admin import credentials, storage\n",
    "   \n",
    "   # Method 1: Direct file path\n",
    "cred = credentials.Certificate('D:/project/Vietnamese-Restaurant-Service-Chatbot/chatbot-service-ba6d2-firebase-adminsdk-ui9sr-f9154790d8.json')\n",
    "firebase_admin.initialize_app(cred, {\n",
    "    'storageBucket': 'chatbot-service-ba6d2.firebasestorage.app',  # Remove the gs:// prefix\n",
    "    'databaseURL': 'https://chatbot-service-ba6d2-default-rtdb.firebaseio.com/'\n",
    "})"
   ]
  },
  {
   "cell_type": "code",
   "execution_count": 5,
   "metadata": {},
   "outputs": [],
   "source": [
    "bucket = storage.bucket()"
   ]
  },
  {
   "cell_type": "code",
   "execution_count": 6,
   "metadata": {},
   "outputs": [
    {
     "data": {
      "text/html": [
       "<div>\n",
       "<style scoped>\n",
       "    .dataframe tbody tr th:only-of-type {\n",
       "        vertical-align: middle;\n",
       "    }\n",
       "\n",
       "    .dataframe tbody tr th {\n",
       "        vertical-align: top;\n",
       "    }\n",
       "\n",
       "    .dataframe thead th {\n",
       "        text-align: right;\n",
       "    }\n",
       "</style>\n",
       "<table border=\"1\" class=\"dataframe\">\n",
       "  <thead>\n",
       "    <tr style=\"text-align: right;\">\n",
       "      <th></th>\n",
       "      <th>name</th>\n",
       "      <th>category</th>\n",
       "      <th>description</th>\n",
       "      <th>ingredients</th>\n",
       "      <th>price</th>\n",
       "      <th>rating</th>\n",
       "      <th>image_path</th>\n",
       "    </tr>\n",
       "  </thead>\n",
       "  <tbody>\n",
       "    <tr>\n",
       "      <th>0</th>\n",
       "      <td>Pho Ga</td>\n",
       "      <td>Noodles</td>\n",
       "      <td>A delicious Vietnamese noodle soup with tender...</td>\n",
       "      <td>[Chicken, Rice Noodles, Broth, Herbs]</td>\n",
       "      <td>6.5</td>\n",
       "      <td>4.8</td>\n",
       "      <td>pho_ga.jpg</td>\n",
       "    </tr>\n",
       "    <tr>\n",
       "      <th>1</th>\n",
       "      <td>Goi Cuon</td>\n",
       "      <td>Seafood</td>\n",
       "      <td>Fresh Vietnamese spring rolls filled with shri...</td>\n",
       "      <td>[Shrimp, Rice Paper, Vermicelli, Herbs]</td>\n",
       "      <td>5.0</td>\n",
       "      <td>4.7</td>\n",
       "      <td>goi_cuon.jpg</td>\n",
       "    </tr>\n",
       "  </tbody>\n",
       "</table>\n",
       "</div>"
      ],
      "text/plain": [
       "       name category                                        description  \\\n",
       "0    Pho Ga  Noodles  A delicious Vietnamese noodle soup with tender...   \n",
       "1  Goi Cuon  Seafood  Fresh Vietnamese spring rolls filled with shri...   \n",
       "\n",
       "                               ingredients  price  rating    image_path  \n",
       "0    [Chicken, Rice Noodles, Broth, Herbs]    6.5     4.8    pho_ga.jpg  \n",
       "1  [Shrimp, Rice Paper, Vermicelli, Herbs]    5.0     4.7  goi_cuon.jpg  "
      ]
     },
     "execution_count": 6,
     "metadata": {},
     "output_type": "execute_result"
    }
   ],
   "source": [
    "image_folder_path = './products/images/'\n",
    "products_collection = db.reference('products')\n",
    "df = pd.read_json('D:/project/Vietnamese-Restaurant-Service-Chatbot/products/vietnamese_food_detail.jsonl', lines=True)\n",
    "df.head(2)"
   ]
  },
  {
   "cell_type": "code",
   "execution_count": 12,
   "metadata": {},
   "outputs": [
    {
     "name": "stdout",
     "output_type": "stream",
     "text": [
      "0 Pho Ga\n",
      "1 Goi Cuon\n",
      "2 Hu Tieu Nam Vang\n",
      "3 Tra Da\n",
      "4 Nuoc Mia\n",
      "5 Banh Xeo\n",
      "6 Ca Phe Sua Da\n",
      "7 Banh Mi Thit\n",
      "8 Banh Trang Nuong\n",
      "9 Xoi Ga\n",
      "10 Bun Rieu\n",
      "11 Goi Ga\n",
      "12 Banh Pia\n",
      "13 Bun Cha\n",
      "14 Kem Xoi\n",
      "15 Bun Dau Mam Tom\n",
      "16 Bun Oc\n",
      "17 Banh Beo\n",
      "18 Nuoc Chanh\n",
      "19 Nem Nuong\n",
      "20 Banh Mi Cha Ca\n",
      "21 Banh Khot\n",
      "22 Sinh To Bo\n",
      "23 Bun Thit Nuong\n",
      "24 Com Ga\n",
      "25 Lau Nam\n",
      "26 Che Troi Nuoc\n",
      "27 Sinh To Xoai\n",
      "28 Com Tam\n",
      "29 Che Ba Mau\n",
      "30 Bo Nuong La Lot\n"
     ]
    }
   ],
   "source": [
    "def upload_image(bucket, image_path):\n",
    "    image_name = image_path.split('/')[-1]\n",
    "    blob = bucket.blob(f'product_images/{image_name}')\n",
    "    # Upload image\n",
    "    blob.upload_from_filename(image_path)\n",
    "    # Make the image publicly accessible and get its URL\n",
    "    blob.make_public()\n",
    "    return blob.public_url\n",
    " \n",
    "for index, row in df.iterrows():\n",
    "    print(index, row['name'])\n",
    "    \n",
    "    # Correct way to build the image path\n",
    "    image_path = os.path.join('d:/project/Vietnamese-Restaurant-Service-Chatbot/products/images', row['image_path'])\n",
    "    \n",
    "    image_url = upload_image(bucket,image_path)\n",
    "    product_data = row.to_dict()\n",
    "    product_data.pop('image_path')\n",
    "    product_data['image_url']= image_url\n",
    "    \n",
    "    # Add to Firestore\n",
    "    products_collection.push().set(product_data)\n",
    "    "
   ]
  }
 ],
 "metadata": {
  "kernelspec": {
   "display_name": "base",
   "language": "python",
   "name": "python3"
  },
  "language_info": {
   "codemirror_mode": {
    "name": "ipython",
    "version": 3
   },
   "file_extension": ".py",
   "mimetype": "text/x-python",
   "name": "python",
   "nbconvert_exporter": "python",
   "pygments_lexer": "ipython3",
   "version": "3.12.7"
  }
 },
 "nbformat": 4,
 "nbformat_minor": 2
}
